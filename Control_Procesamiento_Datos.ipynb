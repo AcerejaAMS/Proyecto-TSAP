{
 "cells": [
  {
   "cell_type": "code",
   "execution_count": 1,
   "id": "6e288d57",
   "metadata": {},
   "outputs": [],
   "source": [
    "# Librerias prehechas\n",
    "import tensorflow as tf\n",
    "import tensorflow_datasets as tfds\n",
    "from tensorflow.keras.utils import to_categorical\n",
    "import numpy as np"
   ]
  },
  {
   "cell_type": "markdown",
   "id": "b65be875",
   "metadata": {},
   "source": [
    "##### Descargar los datos"
   ]
  },
  {
   "cell_type": "code",
   "execution_count": 2,
   "id": "c26cd306",
   "metadata": {},
   "outputs": [],
   "source": [
    "dataset, info = tfds.load('deep_weeds', with_info=True, as_supervised=True)"
   ]
  },
  {
   "cell_type": "markdown",
   "id": "2cd7cc7e",
   "metadata": {},
   "source": [
    "##### Almacenamiento por separado de las imagenes y los labels"
   ]
  },
  {
   "cell_type": "code",
   "execution_count": 3,
   "id": "30f34f44",
   "metadata": {},
   "outputs": [],
   "source": [
    "# import tensorflow_datasets as tfds\n",
    "# import tensorflow as tf\n",
    "\n",
    "# # Tamaño deseado de las imágenes\n",
    "# IMG_SIZE = (224, 224)\n",
    "\n",
    "# def rgb_to_hsv_preprocess(image, label):\n",
    "#     # Convertimos a float32 para la conversión a HSV\n",
    "#     image = tf.cast(image, tf.float32) / 255.0\n",
    "#     image = tf.image.resize(image, IMG_SIZE, method='area')  # Resize\n",
    "#     image = tf.image.rgb_to_hsv(image)  # Convertir a HSV\n",
    "#     return image, label\n",
    "\n",
    "# # Cargar el dataset\n",
    "# dataset = tfds.load('deep_weeds', split='train', as_supervised=True)\n",
    "\n",
    "# # Aplicar el preprocesamiento\n",
    "# dataset_hsv = dataset.map(rgb_to_hsv_preprocess, num_parallel_calls=tf.data.AUTOTUNE)\n",
    "\n",
    "# # Puedes usar .batch(), .prefetch(), etc. si lo vas a entrenar directamente\n"
   ]
  },
  {
   "cell_type": "code",
   "execution_count": 4,
   "id": "03bcc3b9",
   "metadata": {},
   "outputs": [],
   "source": [
    "# import numpy as np\n",
    "\n",
    "# X_hsv = []\n",
    "\n",
    "# for img, label in tfds.as_numpy(dataset_hsv):\n",
    "#     X_hsv.append(img)\n",
    "\n",
    "# X_hsv = np.array(X_hsv, dtype=np.float32)\n",
    "\n",
    "# # Guardar\n",
    "# np.save(\"X_hsv_224_224_3.npy\", X_hsv)\n"
   ]
  },
  {
   "cell_type": "code",
   "execution_count": 5,
   "id": "4cee599a",
   "metadata": {},
   "outputs": [],
   "source": [
    "# print(X_hsv.shape)  # Debería ser (n_samples, 128, 128, 3)"
   ]
  },
  {
   "cell_type": "markdown",
   "id": "eed89812",
   "metadata": {},
   "source": [
    "##### Reduccion dimensional de las imagenes para optimizar la carga computacional"
   ]
  },
  {
   "cell_type": "code",
   "execution_count": 6,
   "id": "939f9254",
   "metadata": {},
   "outputs": [],
   "source": [
    "# # Reducitos tamaño para poder optimizar el uso de memoria\n",
    "# X_rgb = tf.convert_to_tensor(X_rgb, dtype=tf.float32)\n",
    "# X_rgb = tf.image.resize(X_rgb, [128, 128], method='area')\n",
    "        \n",
    "# # Normalizamos las imágenes al rango [0, 1]\n",
    "# X_rgb = (X_rgb / 255.0).numpy()"
   ]
  },
  {
   "cell_type": "code",
   "execution_count": 7,
   "id": "df955c84",
   "metadata": {},
   "outputs": [],
   "source": [
    "import tensorflow_datasets as tfds\n",
    "import numpy as np\n",
    "import tensorflow as tf\n",
    "\n",
    "# Cargar el dataset\n",
    "dataset, info = tfds.load('deep_weeds', with_info=True, as_supervised=True)\n",
    "datos = dataset['train']\n",
    "del dataset  # liberar memoria\n",
    "del info \n",
    "# Inicializar listas\n",
    "#X_rgb = []\n",
    "y = []\n",
    "\n",
    "# Recorrer y procesar las imágenes\n",
    "for image, label in tfds.as_numpy(datos):\n",
    "    # Convertir a float32 y normalizar a [0, 1]\n",
    "    # image = tf.cast(image, tf.float32) / 255.0\n",
    "\n",
    "    # Redimensionar a 224x224 (puedes cambiar si tu red usa otro tamaño)\n",
    "    # image = tf.image.resize(image, [224, 224], method='area')\n",
    "\n",
    "    # Convertir a numpy\n",
    "    # X_rgb.append(image.numpy())\n",
    "    y.append(label)\n",
    "\n",
    "# Convertir listas a arrays numpy\n",
    "#X_rgb = np.array(X_rgb, dtype=np.float32)  # RGB normalizado [0,1]\n",
    "y = np.array(y)\n",
    "\n",
    "# Guardar si se desea\n",
    "# np.save('X_rgb.npy', X_rgb)\n",
    "# np.save('y.npy', y)\n"
   ]
  },
  {
   "cell_type": "code",
   "execution_count": 8,
   "id": "a467fd64",
   "metadata": {},
   "outputs": [],
   "source": [
    "# Guardar el tensor\n",
    "# np.save(\"X_rgb_224_224_3.npy\", X_rgb)  # solo si entra en RAM"
   ]
  },
  {
   "cell_type": "code",
   "execution_count": 9,
   "id": "e444c1f9",
   "metadata": {},
   "outputs": [],
   "source": [
    "# # Reducitos tamaño para poder optimizar el uso de memoria\n",
    "# X_lbp = tf.convert_to_tensor(X_lbp, dtype=tf.float32)\n",
    "# X_lbp = tf.image.resize(X_lbp, [128, 128], method='area')\n",
    "        \n",
    "# # Normalizamos las imágenes al rango [0, 1]\n",
    "# X_lbp = (X_lbp / 255.0).numpy()"
   ]
  },
  {
   "cell_type": "code",
   "execution_count": 10,
   "id": "8494dc21",
   "metadata": {},
   "outputs": [],
   "source": [
    "# np.save(\"X_lbp_128_128_4.npy\", X_lbp)  # solo si entra en RAM"
   ]
  },
  {
   "cell_type": "code",
   "execution_count": 11,
   "id": "8e2ba70c",
   "metadata": {},
   "outputs": [],
   "source": [
    "# Aplicación de one-hot encoding a las etiquetas\n",
    "y_onehot = np.array(to_categorical(y))\n",
    "del y"
   ]
  },
  {
   "cell_type": "code",
   "execution_count": 12,
   "id": "0dcfbb95",
   "metadata": {},
   "outputs": [],
   "source": [
    "np.save(\"y_one_hot\", y_onehot)  # solo si entra en RAM"
   ]
  }
 ],
 "metadata": {
  "kernelspec": {
   "display_name": "Python 3",
   "language": "python",
   "name": "python3"
  },
  "language_info": {
   "codemirror_mode": {
    "name": "ipython",
    "version": 3
   },
   "file_extension": ".py",
   "mimetype": "text/x-python",
   "name": "python",
   "nbconvert_exporter": "python",
   "pygments_lexer": "ipython3",
   "version": "3.12.3"
  }
 },
 "nbformat": 4,
 "nbformat_minor": 5
}
