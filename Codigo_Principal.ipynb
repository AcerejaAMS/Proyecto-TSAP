{
 "cells": [
  {
   "cell_type": "markdown",
   "id": "a45abe13",
   "metadata": {},
   "source": [
    "### Desarrollo del codigo principal"
   ]
  },
  {
   "cell_type": "markdown",
   "id": "87644a7c",
   "metadata": {},
   "source": [
    "##### Librerias"
   ]
  },
  {
   "cell_type": "code",
   "execution_count": null,
   "id": "c3984c4f",
   "metadata": {},
   "outputs": [],
   "source": [
    "# Librerias prehechas\n",
    "import tensorflow as tf\n",
    "import tensorflow_datasets as tfds\n",
    "import numpy as np"
   ]
  },
  {
   "cell_type": "code",
   "execution_count": null,
   "id": "015005ed",
   "metadata": {},
   "outputs": [],
   "source": [
    "# Llamado a los modelos de autoria propia\n",
    "import cnn\n",
    "import exploracion\n",
    "import resnet50 as res"
   ]
  },
  {
   "cell_type": "markdown",
   "id": "701e39a3",
   "metadata": {},
   "source": [
    "##### Descarga de los datos"
   ]
  },
  {
   "cell_type": "code",
   "execution_count": null,
   "id": "af9edf0e",
   "metadata": {},
   "outputs": [],
   "source": [
    "dataset, info = tfds.load('deep_weeds', with_info=True, as_supervised=True)"
   ]
  },
  {
   "cell_type": "markdown",
   "id": "9a52348b",
   "metadata": {},
   "source": [
    "##### Almacenamiento por separado de las imagenes y los labels"
   ]
  },
  {
   "cell_type": "code",
   "execution_count": null,
   "id": "b3349c5e",
   "metadata": {},
   "outputs": [],
   "source": [
    "datos = dataset['train']\n",
    "\n",
    "X_rgb = []\n",
    "X_gray = []\n",
    "y = []\n",
    "\n",
    "for image, label in tfds.as_numpy(datos):\n",
    "    tensor = tf.convert_to_tensor(image)\n",
    "    gray_img = tf.image.rgb_to_grayscale(tensor)\n",
    "\n",
    "    X_rgb.append(image)\n",
    "    X_gray.append(gray_img)\n",
    "    y.append(label)\n",
    "\n",
    "X_rgb = np.array(X_rgb, dtype=np.float32)\n",
    "X_gray = np.array(X_gray, dtype=np.float32)\n",
    "y = np.array(y)"
   ]
  },
  {
   "cell_type": "code",
   "execution_count": null,
   "id": "f145526f",
   "metadata": {},
   "outputs": [],
   "source": [
    "print('Shapes')\n",
    "print(f'X_rgb: {X_rgb.shape}')\n",
    "print(f'X_gray: {X_gray.shape}')\n",
    "print(f'y: {y.shape}')"
   ]
  },
  {
   "cell_type": "markdown",
   "id": "5a59fd07",
   "metadata": {},
   "source": [
    "##### Exploración de las imagenes"
   ]
  },
  {
   "cell_type": "code",
   "execution_count": null,
   "id": "73ac2519",
   "metadata": {},
   "outputs": [],
   "source": [
    "descripciones = {\n",
    "    0: 'chinee_apple',\n",
    "    1: 'lantana',\n",
    "    2: 'parkinsonia',\n",
    "    3: 'parthenium',\n",
    "    4: 'prickly_acacia',\n",
    "    5: 'rubber_vine',\n",
    "    6: 'siam_weed',\n",
    "    7: 'snake_weed',\n",
    "    8: 'negative (sin maleza)'\n",
    "}"
   ]
  },
  {
   "cell_type": "code",
   "execution_count": null,
   "id": "748fa8d2",
   "metadata": {},
   "outputs": [],
   "source": [
    "# analisis_clase = exploracion.Conteo_por_etiquetas(y, descripciones)\n",
    "# analisis_clase.mostrar()"
   ]
  },
  {
   "cell_type": "code",
   "execution_count": null,
   "id": "6be84a54",
   "metadata": {},
   "outputs": [],
   "source": [
    "# analisis_canal = exploracion.Visualizacion_por_canal(X_rgb, X_gray, y)"
   ]
  },
  {
   "cell_type": "code",
   "execution_count": null,
   "id": "7086c1ff",
   "metadata": {},
   "outputs": [],
   "source": [
    "# analisis_canal.informacion_promedio_color()"
   ]
  },
  {
   "cell_type": "code",
   "execution_count": null,
   "id": "2959193c",
   "metadata": {},
   "outputs": [],
   "source": [
    "# analisis_canal.distribucion_canal_etiqueta()"
   ]
  },
  {
   "cell_type": "markdown",
   "id": "e3d56526",
   "metadata": {},
   "source": [
    "##### Aplicación de las CNN"
   ]
  },
  {
   "cell_type": "code",
   "execution_count": null,
   "id": "60a2ce74",
   "metadata": {},
   "outputs": [],
   "source": [
    "redConvolucional_rgb = cnn.Propuesta_rgb(X_rgb, y)\n",
    "redConvolucional_rgb.CrearModelo()\n",
    "redConvolucional_rgb.EvaluarModelo()"
   ]
  },
  {
   "cell_type": "code",
   "execution_count": null,
   "id": "4f5652ee",
   "metadata": {},
   "outputs": [],
   "source": [
    "redConvolucional_gray = cnn.Propuesta_gray(X_gray, y)\n",
    "redConvolucional_gray.CrearModelo()\n",
    "redConvolucional_gray.EvaluarModelo()"
   ]
  },
  {
   "cell_type": "markdown",
   "id": "1adc21b3",
   "metadata": {},
   "source": [
    "##### Aplicación de aprendizaje por transferencia utilizando el modelo ResNet50 como base"
   ]
  },
  {
   "cell_type": "code",
   "execution_count": null,
   "id": "98c57f4b",
   "metadata": {},
   "outputs": [],
   "source": [
    "redResNet50_rgb = res.ResNet50_rgb(X_rgb, y)\n",
    "redResNet50_rgb.CrearModelo()\n",
    "redResNet50_rgb.EvaluarModelo()"
   ]
  },
  {
   "cell_type": "code",
   "execution_count": null,
   "id": "e3ef8596",
   "metadata": {},
   "outputs": [],
   "source": [
    "redResNet50_gray = res.ResNet50_gray(X_gray, y)\n",
    "redResNet50_gray.CrearModelo()\n",
    "redResNet50_gray.EvaluarModelo()"
   ]
  }
 ],
 "metadata": {
  "kernelspec": {
   "display_name": "Python 3",
   "language": "python",
   "name": "python3"
  },
  "language_info": {
   "codemirror_mode": {
    "name": "ipython",
    "version": 3
   },
   "file_extension": ".py",
   "mimetype": "text/x-python",
   "name": "python",
   "nbconvert_exporter": "python",
   "pygments_lexer": "ipython3",
   "version": "3.12.3"
  }
 },
 "nbformat": 4,
 "nbformat_minor": 5
}
