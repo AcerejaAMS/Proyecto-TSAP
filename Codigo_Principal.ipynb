{
 "cells": [
  {
   "cell_type": "markdown",
   "id": "a45abe13",
   "metadata": {},
   "source": [
    "### Desarrollo del codigo principal"
   ]
  },
  {
   "cell_type": "markdown",
   "id": "87644a7c",
   "metadata": {},
   "source": [
    "##### Librerias"
   ]
  },
  {
   "cell_type": "code",
   "execution_count": 1,
   "id": "c3984c4f",
   "metadata": {},
   "outputs": [],
   "source": [
    "# Librerias prehechas\n",
    "import tensorflow as tf\n",
    "import tensorflow_datasets as tfds\n",
    "from tensorflow.keras.utils import to_categorical\n",
    "import numpy as np"
   ]
  },
  {
   "cell_type": "code",
   "execution_count": 2,
   "id": "015005ed",
   "metadata": {},
   "outputs": [],
   "source": [
    "# Llamado a los modelos de autoria propia\n",
    "import cnn\n",
    "import exploracion\n",
    "import resnet50 as res"
   ]
  },
  {
   "cell_type": "markdown",
   "id": "701e39a3",
   "metadata": {},
   "source": [
    "##### Descarga de los datos"
   ]
  },
  {
   "cell_type": "code",
   "execution_count": 3,
   "id": "af9edf0e",
   "metadata": {},
   "outputs": [],
   "source": [
    "dataset, info = tfds.load('deep_weeds', with_info=True, as_supervised=True)"
   ]
  },
  {
   "cell_type": "markdown",
   "id": "9a52348b",
   "metadata": {},
   "source": [
    "##### Almacenamiento por separado de las imagenes y los labels"
   ]
  },
  {
   "cell_type": "code",
   "execution_count": 4,
   "id": "b3349c5e",
   "metadata": {},
   "outputs": [],
   "source": [
    "datos = dataset['train']\n",
    "\n",
    "X_rgb = []\n",
    "X_gray = []\n",
    "y = []\n",
    "\n",
    "for image, label in tfds.as_numpy(datos):\n",
    "    tensor = tf.convert_to_tensor(image)\n",
    "    gray_img = tf.image.rgb_to_grayscale(tensor)\n",
    "\n",
    "    X_rgb.append(image)\n",
    "    X_gray.append(gray_img.numpy())\n",
    "    y.append(label)\n",
    "\n",
    "X_rgb = np.array(X_rgb, dtype=np.float32)\n",
    "X_rgbg = np.concatenate([X_rgb, X_gray], axis=-1)\n",
    "y = np.array(y)\n",
    "\n",
    "del X_rgb\n",
    "del X_gray\n",
    "del dataset"
   ]
  },
  {
   "cell_type": "code",
   "execution_count": 5,
   "id": "bb6afc3d",
   "metadata": {},
   "outputs": [
    {
     "name": "stdout",
     "output_type": "stream",
     "text": [
      "Shapes\n",
      "X_rgbg: (17509, 256, 256, 4)\n",
      "y: (17509,)\n"
     ]
    }
   ],
   "source": [
    "print('Shapes')\n",
    "# print(f'X_rgb: {X_rgb.shape}')\n",
    "print(f'X_rgbg: {X_rgbg.shape}')\n",
    "print(f'y: {y.shape}')"
   ]
  },
  {
   "cell_type": "markdown",
   "id": "a1dc5a04",
   "metadata": {},
   "source": [
    "##### Reduccion dimensional de las imagenes para optimizar la carga computacional"
   ]
  },
  {
   "cell_type": "code",
   "execution_count": 6,
   "id": "a7cf5db5",
   "metadata": {},
   "outputs": [],
   "source": [
    "# # Reducitos tamaño para poder optimizar el uso de memoria\n",
    "# X_rgb = tf.convert_to_tensor(X_rgb, dtype=tf.float32)\n",
    "# X_rgb = tf.image.resize(X_rgb, [196, 196], method='area')\n",
    "        \n",
    "# # Normalizamos las imágenes al rango [0, 1]\n",
    "# X_scaled_rgb = (X_rgb / 255.0).numpy()\n",
    "\n",
    "# del X_rgb"
   ]
  },
  {
   "cell_type": "code",
   "execution_count": 7,
   "id": "44820c03",
   "metadata": {},
   "outputs": [],
   "source": [
    "# Reducitos tamaño para poder optimizar el uso de memoria\n",
    "X_rgbg = tf.convert_to_tensor(X_rgbg, dtype=tf.float32)\n",
    "X_rgbg = tf.image.resize(X_rgbg, [128, 128], method='area')\n",
    "        \n",
    "# Normalizamos las imágenes al rango [0, 1]\n",
    "X_scaled_rgbg = (X_rgbg / 255.0).numpy()\n",
    "\n",
    "del X_rgbg"
   ]
  },
  {
   "cell_type": "code",
   "execution_count": 8,
   "id": "9ab3d2ec",
   "metadata": {},
   "outputs": [],
   "source": [
    "# Aplicación de one-hot encoding a las etiquetas\n",
    "y_onehot = np.array(to_categorical(y))"
   ]
  },
  {
   "cell_type": "code",
   "execution_count": 9,
   "id": "c9bb3a81",
   "metadata": {},
   "outputs": [
    {
     "name": "stdout",
     "output_type": "stream",
     "text": [
      "Shapes\n",
      "X_gray: (17509, 128, 128, 4)\n",
      "y: (17509,)\n"
     ]
    }
   ],
   "source": [
    "print('Shapes')\n",
    "# print(f'X_rgb: {X_scaled_rgb.shape}')\n",
    "print(f'X_gray: {X_scaled_rgbg.shape}')\n",
    "print(f'y: {y.shape}')"
   ]
  },
  {
   "cell_type": "markdown",
   "id": "5a59fd07",
   "metadata": {},
   "source": [
    "##### Exploración de las imagenes"
   ]
  },
  {
   "cell_type": "code",
   "execution_count": 10,
   "id": "73ac2519",
   "metadata": {},
   "outputs": [],
   "source": [
    "descripciones = {\n",
    "    0: 'chinee_apple',\n",
    "    1: 'lantana',\n",
    "    2: 'parkinsonia',\n",
    "    3: 'parthenium',\n",
    "    4: 'prickly_acacia',\n",
    "    5: 'rubber_vine',\n",
    "    6: 'siam_weed',\n",
    "    7: 'snake_weed',\n",
    "    8: 'negative (sin maleza)'\n",
    "}"
   ]
  },
  {
   "cell_type": "code",
   "execution_count": 11,
   "id": "748fa8d2",
   "metadata": {},
   "outputs": [],
   "source": [
    "# analisis_clase = exploracion.Conteo_por_etiquetas(y, descripciones)\n",
    "# analisis_clase.mostrar()"
   ]
  },
  {
   "cell_type": "code",
   "execution_count": 12,
   "id": "6be84a54",
   "metadata": {},
   "outputs": [],
   "source": [
    "# analisis_canal = exploracion.Visualizacion_por_canal(X_rgb, X_gray, y)"
   ]
  },
  {
   "cell_type": "code",
   "execution_count": 13,
   "id": "7086c1ff",
   "metadata": {},
   "outputs": [],
   "source": [
    "# analisis_canal.informacion_promedio_color()"
   ]
  },
  {
   "cell_type": "code",
   "execution_count": 14,
   "id": "2959193c",
   "metadata": {},
   "outputs": [],
   "source": [
    "# analisis_canal.distribucion_canal_etiqueta()"
   ]
  },
  {
   "cell_type": "markdown",
   "id": "e3d56526",
   "metadata": {},
   "source": [
    "##### Aplicación de las CNN"
   ]
  },
  {
   "cell_type": "code",
   "execution_count": 15,
   "id": "60a2ce74",
   "metadata": {},
   "outputs": [],
   "source": [
    "# redConvolucional_rgb = cnn.Propuesta_rgb(X_scaled_rgb, y_onehot)\n",
    "# redConvolucional_rgb.CrearModelo()\n",
    "# redConvolucional_rgb.EvaluarModelo()"
   ]
  },
  {
   "cell_type": "code",
   "execution_count": 16,
   "id": "4f5652ee",
   "metadata": {},
   "outputs": [
    {
     "name": "stderr",
     "output_type": "stream",
     "text": [
      "c:\\Users\\abiab\\AppData\\Local\\Programs\\Python\\Python312\\Lib\\site-packages\\keras\\src\\layers\\convolutional\\base_conv.py:107: UserWarning: Do not pass an `input_shape`/`input_dim` argument to a layer. When using Sequential models, prefer using an `Input(shape)` object as the first layer in the model instead.\n",
      "  super().__init__(activity_regularizer=activity_regularizer, **kwargs)\n",
      "c:\\Users\\abiab\\AppData\\Local\\Programs\\Python\\Python312\\Lib\\site-packages\\keras\\src\\layers\\activations\\leaky_relu.py:41: UserWarning: Argument `alpha` is deprecated. Use `negative_slope` instead.\n",
      "  warnings.warn(\n"
     ]
    },
    {
     "name": "stdout",
     "output_type": "stream",
     "text": [
      "Epoch 1/100\n",
      "\u001b[1m394/394\u001b[0m \u001b[32m━━━━━━━━━━━━━━━━━━━━\u001b[0m\u001b[37m\u001b[0m \u001b[1m209s\u001b[0m 506ms/step - accuracy: 0.4570 - loss: 1.7538 - val_accuracy: 0.5132 - val_loss: 1.7057\n",
      "Epoch 2/100\n",
      "\u001b[1m394/394\u001b[0m \u001b[32m━━━━━━━━━━━━━━━━━━━━\u001b[0m\u001b[37m\u001b[0m \u001b[1m186s\u001b[0m 473ms/step - accuracy: 0.5419 - loss: 1.3655 - val_accuracy: 0.5460 - val_loss: 1.3791\n",
      "Epoch 3/100\n",
      "\u001b[1m394/394\u001b[0m \u001b[32m━━━━━━━━━━━━━━━━━━━━\u001b[0m\u001b[37m\u001b[0m \u001b[1m200s\u001b[0m 507ms/step - accuracy: 0.5511 - loss: 1.2907 - val_accuracy: 0.5746 - val_loss: 1.3009\n",
      "Epoch 4/100\n",
      "\u001b[1m394/394\u001b[0m \u001b[32m━━━━━━━━━━━━━━━━━━━━\u001b[0m\u001b[37m\u001b[0m \u001b[1m188s\u001b[0m 476ms/step - accuracy: 0.5730 - loss: 1.2331 - val_accuracy: 0.5767 - val_loss: 1.2283\n",
      "Epoch 5/100\n",
      "\u001b[1m394/394\u001b[0m \u001b[32m━━━━━━━━━━━━━━━━━━━━\u001b[0m\u001b[37m\u001b[0m \u001b[1m222s\u001b[0m 565ms/step - accuracy: 0.5741 - loss: 1.2182 - val_accuracy: 0.5967 - val_loss: 1.1949\n",
      "Epoch 6/100\n",
      "\u001b[1m394/394\u001b[0m \u001b[32m━━━━━━━━━━━━━━━━━━━━\u001b[0m\u001b[37m\u001b[0m \u001b[1m216s\u001b[0m 549ms/step - accuracy: 0.5897 - loss: 1.1603 - val_accuracy: 0.5782 - val_loss: 1.2325\n",
      "Epoch 7/100\n",
      "\u001b[1m394/394\u001b[0m \u001b[32m━━━━━━━━━━━━━━━━━━━━\u001b[0m\u001b[37m\u001b[0m \u001b[1m213s\u001b[0m 541ms/step - accuracy: 0.6040 - loss: 1.1456 - val_accuracy: 0.5874 - val_loss: 1.3109\n",
      "Epoch 8/100\n",
      "\u001b[1m394/394\u001b[0m \u001b[32m━━━━━━━━━━━━━━━━━━━━\u001b[0m\u001b[37m\u001b[0m \u001b[1m212s\u001b[0m 537ms/step - accuracy: 0.6228 - loss: 1.0933 - val_accuracy: 0.5603 - val_loss: 1.2723\n",
      "Epoch 9/100\n",
      "\u001b[1m394/394\u001b[0m \u001b[32m━━━━━━━━━━━━━━━━━━━━\u001b[0m\u001b[37m\u001b[0m \u001b[1m215s\u001b[0m 546ms/step - accuracy: 0.6195 - loss: 1.0838 - val_accuracy: 0.6067 - val_loss: 1.1837\n",
      "Epoch 10/100\n",
      "\u001b[1m394/394\u001b[0m \u001b[32m━━━━━━━━━━━━━━━━━━━━\u001b[0m\u001b[37m\u001b[0m \u001b[1m222s\u001b[0m 562ms/step - accuracy: 0.6282 - loss: 1.0695 - val_accuracy: 0.6288 - val_loss: 1.0653\n",
      "Epoch 11/100\n",
      "\u001b[1m394/394\u001b[0m \u001b[32m━━━━━━━━━━━━━━━━━━━━\u001b[0m\u001b[37m\u001b[0m \u001b[1m212s\u001b[0m 538ms/step - accuracy: 0.6349 - loss: 1.0471 - val_accuracy: 0.5989 - val_loss: 1.1697\n",
      "Epoch 12/100\n",
      "\u001b[1m394/394\u001b[0m \u001b[32m━━━━━━━━━━━━━━━━━━━━\u001b[0m\u001b[37m\u001b[0m \u001b[1m224s\u001b[0m 570ms/step - accuracy: 0.6428 - loss: 1.0191 - val_accuracy: 0.5981 - val_loss: 1.3158\n",
      "Epoch 13/100\n",
      "\u001b[1m394/394\u001b[0m \u001b[32m━━━━━━━━━━━━━━━━━━━━\u001b[0m\u001b[37m\u001b[0m \u001b[1m206s\u001b[0m 523ms/step - accuracy: 0.6479 - loss: 1.0028 - val_accuracy: 0.5717 - val_loss: 1.3328\n",
      "Epoch 14/100\n",
      "\u001b[1m394/394\u001b[0m \u001b[32m━━━━━━━━━━━━━━━━━━━━\u001b[0m\u001b[37m\u001b[0m \u001b[1m205s\u001b[0m 520ms/step - accuracy: 0.6587 - loss: 0.9852 - val_accuracy: 0.5939 - val_loss: 1.2374\n",
      "Epoch 15/100\n",
      "\u001b[1m394/394\u001b[0m \u001b[32m━━━━━━━━━━━━━━━━━━━━\u001b[0m\u001b[37m\u001b[0m \u001b[1m203s\u001b[0m 515ms/step - accuracy: 0.6680 - loss: 0.9546 - val_accuracy: 0.6124 - val_loss: 1.1669\n",
      "Epoch 16/100\n",
      "\u001b[1m394/394\u001b[0m \u001b[32m━━━━━━━━━━━━━━━━━━━━\u001b[0m\u001b[37m\u001b[0m \u001b[1m204s\u001b[0m 518ms/step - accuracy: 0.6818 - loss: 0.9406 - val_accuracy: 0.6502 - val_loss: 1.0212\n",
      "Epoch 17/100\n",
      "\u001b[1m394/394\u001b[0m \u001b[32m━━━━━━━━━━━━━━━━━━━━\u001b[0m\u001b[37m\u001b[0m \u001b[1m204s\u001b[0m 518ms/step - accuracy: 0.6759 - loss: 0.9305 - val_accuracy: 0.6260 - val_loss: 1.1307\n",
      "Epoch 18/100\n",
      "\u001b[1m394/394\u001b[0m \u001b[32m━━━━━━━━━━━━━━━━━━━━\u001b[0m\u001b[37m\u001b[0m \u001b[1m203s\u001b[0m 514ms/step - accuracy: 0.6786 - loss: 0.9149 - val_accuracy: 0.6438 - val_loss: 1.0786\n",
      "Epoch 19/100\n",
      "\u001b[1m394/394\u001b[0m \u001b[32m━━━━━━━━━━━━━━━━━━━━\u001b[0m\u001b[37m\u001b[0m \u001b[1m206s\u001b[0m 522ms/step - accuracy: 0.6913 - loss: 0.8973 - val_accuracy: 0.6331 - val_loss: 1.1073\n",
      "Epoch 20/100\n",
      "\u001b[1m394/394\u001b[0m \u001b[32m━━━━━━━━━━━━━━━━━━━━\u001b[0m\u001b[37m\u001b[0m \u001b[1m205s\u001b[0m 519ms/step - accuracy: 0.6850 - loss: 0.9103 - val_accuracy: 0.6345 - val_loss: 1.2221\n",
      "Epoch 21/100\n",
      "\u001b[1m394/394\u001b[0m \u001b[32m━━━━━━━━━━━━━━━━━━━━\u001b[0m\u001b[37m\u001b[0m \u001b[1m203s\u001b[0m 514ms/step - accuracy: 0.6925 - loss: 0.8673 - val_accuracy: 0.6188 - val_loss: 1.3635\n",
      "Epoch 22/100\n",
      "\u001b[1m394/394\u001b[0m \u001b[32m━━━━━━━━━━━━━━━━━━━━\u001b[0m\u001b[37m\u001b[0m \u001b[1m203s\u001b[0m 515ms/step - accuracy: 0.7038 - loss: 0.8547 - val_accuracy: 0.6124 - val_loss: 1.1470\n",
      "Epoch 23/100\n",
      "\u001b[1m394/394\u001b[0m \u001b[32m━━━━━━━━━━━━━━━━━━━━\u001b[0m\u001b[37m\u001b[0m \u001b[1m204s\u001b[0m 519ms/step - accuracy: 0.7080 - loss: 0.8456 - val_accuracy: 0.6560 - val_loss: 1.0141\n",
      "Epoch 24/100\n",
      "\u001b[1m394/394\u001b[0m \u001b[32m━━━━━━━━━━━━━━━━━━━━\u001b[0m\u001b[37m\u001b[0m \u001b[1m203s\u001b[0m 516ms/step - accuracy: 0.7139 - loss: 0.8385 - val_accuracy: 0.6781 - val_loss: 1.0230\n",
      "Epoch 25/100\n",
      "\u001b[1m394/394\u001b[0m \u001b[32m━━━━━━━━━━━━━━━━━━━━\u001b[0m\u001b[37m\u001b[0m \u001b[1m204s\u001b[0m 518ms/step - accuracy: 0.7167 - loss: 0.8117 - val_accuracy: 0.6003 - val_loss: 1.3156\n",
      "Epoch 26/100\n",
      "\u001b[1m394/394\u001b[0m \u001b[32m━━━━━━━━━━━━━━━━━━━━\u001b[0m\u001b[37m\u001b[0m \u001b[1m204s\u001b[0m 518ms/step - accuracy: 0.7263 - loss: 0.7945 - val_accuracy: 0.6588 - val_loss: 1.0629\n",
      "Epoch 27/100\n",
      "\u001b[1m394/394\u001b[0m \u001b[32m━━━━━━━━━━━━━━━━━━━━\u001b[0m\u001b[37m\u001b[0m \u001b[1m203s\u001b[0m 514ms/step - accuracy: 0.7228 - loss: 0.8020 - val_accuracy: 0.6817 - val_loss: 0.9991\n",
      "Epoch 28/100\n",
      "\u001b[1m394/394\u001b[0m \u001b[32m━━━━━━━━━━━━━━━━━━━━\u001b[0m\u001b[37m\u001b[0m \u001b[1m206s\u001b[0m 523ms/step - accuracy: 0.7238 - loss: 0.7928 - val_accuracy: 0.6924 - val_loss: 0.8980\n",
      "Epoch 29/100\n",
      "\u001b[1m394/394\u001b[0m \u001b[32m━━━━━━━━━━━━━━━━━━━━\u001b[0m\u001b[37m\u001b[0m \u001b[1m204s\u001b[0m 518ms/step - accuracy: 0.7325 - loss: 0.7667 - val_accuracy: 0.6731 - val_loss: 0.9346\n",
      "Epoch 30/100\n",
      "\u001b[1m394/394\u001b[0m \u001b[32m━━━━━━━━━━━━━━━━━━━━\u001b[0m\u001b[37m\u001b[0m \u001b[1m205s\u001b[0m 520ms/step - accuracy: 0.7332 - loss: 0.7669 - val_accuracy: 0.7045 - val_loss: 0.8748\n",
      "Epoch 31/100\n",
      "\u001b[1m394/394\u001b[0m \u001b[32m━━━━━━━━━━━━━━━━━━━━\u001b[0m\u001b[37m\u001b[0m \u001b[1m204s\u001b[0m 517ms/step - accuracy: 0.7321 - loss: 0.7608 - val_accuracy: 0.6888 - val_loss: 0.9995\n",
      "Epoch 32/100\n",
      "\u001b[1m394/394\u001b[0m \u001b[32m━━━━━━━━━━━━━━━━━━━━\u001b[0m\u001b[37m\u001b[0m \u001b[1m206s\u001b[0m 522ms/step - accuracy: 0.7400 - loss: 0.7459 - val_accuracy: 0.6909 - val_loss: 0.9740\n",
      "Epoch 33/100\n",
      "\u001b[1m394/394\u001b[0m \u001b[32m━━━━━━━━━━━━━━━━━━━━\u001b[0m\u001b[37m\u001b[0m \u001b[1m204s\u001b[0m 517ms/step - accuracy: 0.7399 - loss: 0.7403 - val_accuracy: 0.7181 - val_loss: 0.9049\n",
      "Epoch 34/100\n",
      "\u001b[1m394/394\u001b[0m \u001b[32m━━━━━━━━━━━━━━━━━━━━\u001b[0m\u001b[37m\u001b[0m \u001b[1m204s\u001b[0m 517ms/step - accuracy: 0.7579 - loss: 0.7186 - val_accuracy: 0.6724 - val_loss: 1.1018\n",
      "Epoch 35/100\n",
      "\u001b[1m394/394\u001b[0m \u001b[32m━━━━━━━━━━━━━━━━━━━━\u001b[0m\u001b[37m\u001b[0m \u001b[1m205s\u001b[0m 519ms/step - accuracy: 0.7525 - loss: 0.7208 - val_accuracy: 0.7052 - val_loss: 0.9847\n",
      "Epoch 36/100\n",
      "\u001b[1m394/394\u001b[0m \u001b[32m━━━━━━━━━━━━━━━━━━━━\u001b[0m\u001b[37m\u001b[0m \u001b[1m204s\u001b[0m 517ms/step - accuracy: 0.7548 - loss: 0.7074 - val_accuracy: 0.6681 - val_loss: 1.0126\n",
      "Epoch 37/100\n",
      "\u001b[1m394/394\u001b[0m \u001b[32m━━━━━━━━━━━━━━━━━━━━\u001b[0m\u001b[37m\u001b[0m \u001b[1m204s\u001b[0m 518ms/step - accuracy: 0.7487 - loss: 0.7323 - val_accuracy: 0.7009 - val_loss: 0.9715\n",
      "Epoch 38/100\n",
      "\u001b[1m394/394\u001b[0m \u001b[32m━━━━━━━━━━━━━━━━━━━━\u001b[0m\u001b[37m\u001b[0m \u001b[1m205s\u001b[0m 521ms/step - accuracy: 0.7599 - loss: 0.6920 - val_accuracy: 0.7038 - val_loss: 1.0721\n",
      "Epoch 39/100\n",
      "\u001b[1m394/394\u001b[0m \u001b[32m━━━━━━━━━━━━━━━━━━━━\u001b[0m\u001b[37m\u001b[0m \u001b[1m204s\u001b[0m 517ms/step - accuracy: 0.7625 - loss: 0.6913 - val_accuracy: 0.6881 - val_loss: 1.0034\n",
      "Epoch 40/100\n",
      "\u001b[1m394/394\u001b[0m \u001b[32m━━━━━━━━━━━━━━━━━━━━\u001b[0m\u001b[37m\u001b[0m \u001b[1m203s\u001b[0m 516ms/step - accuracy: 0.7604 - loss: 0.6978 - val_accuracy: 0.6931 - val_loss: 1.0811\n",
      "Epoch 41/100\n",
      "\u001b[1m394/394\u001b[0m \u001b[32m━━━━━━━━━━━━━━━━━━━━\u001b[0m\u001b[37m\u001b[0m \u001b[1m205s\u001b[0m 519ms/step - accuracy: 0.7590 - loss: 0.6964 - val_accuracy: 0.7195 - val_loss: 0.8553\n",
      "Epoch 42/100\n",
      "\u001b[1m394/394\u001b[0m \u001b[32m━━━━━━━━━━━━━━━━━━━━\u001b[0m\u001b[37m\u001b[0m \u001b[1m204s\u001b[0m 517ms/step - accuracy: 0.7657 - loss: 0.6716 - val_accuracy: 0.7038 - val_loss: 0.9338\n",
      "Epoch 43/100\n",
      "\u001b[1m394/394\u001b[0m \u001b[32m━━━━━━━━━━━━━━━━━━━━\u001b[0m\u001b[37m\u001b[0m \u001b[1m203s\u001b[0m 515ms/step - accuracy: 0.7699 - loss: 0.6764 - val_accuracy: 0.7188 - val_loss: 0.8980\n",
      "Epoch 44/100\n",
      "\u001b[1m394/394\u001b[0m \u001b[32m━━━━━━━━━━━━━━━━━━━━\u001b[0m\u001b[37m\u001b[0m \u001b[1m205s\u001b[0m 519ms/step - accuracy: 0.7744 - loss: 0.6526 - val_accuracy: 0.6888 - val_loss: 1.0864\n",
      "Epoch 45/100\n",
      "\u001b[1m394/394\u001b[0m \u001b[32m━━━━━━━━━━━━━━━━━━━━\u001b[0m\u001b[37m\u001b[0m \u001b[1m204s\u001b[0m 517ms/step - accuracy: 0.7692 - loss: 0.6687 - val_accuracy: 0.7402 - val_loss: 0.8092\n",
      "Epoch 46/100\n",
      "\u001b[1m394/394\u001b[0m \u001b[32m━━━━━━━━━━━━━━━━━━━━\u001b[0m\u001b[37m\u001b[0m \u001b[1m204s\u001b[0m 519ms/step - accuracy: 0.7720 - loss: 0.6600 - val_accuracy: 0.6916 - val_loss: 0.9063\n",
      "Epoch 47/100\n",
      "\u001b[1m394/394\u001b[0m \u001b[32m━━━━━━━━━━━━━━━━━━━━\u001b[0m\u001b[37m\u001b[0m \u001b[1m205s\u001b[0m 520ms/step - accuracy: 0.7785 - loss: 0.6448 - val_accuracy: 0.7095 - val_loss: 0.9225\n",
      "Epoch 48/100\n",
      "\u001b[1m394/394\u001b[0m \u001b[32m━━━━━━━━━━━━━━━━━━━━\u001b[0m\u001b[37m\u001b[0m \u001b[1m206s\u001b[0m 522ms/step - accuracy: 0.7734 - loss: 0.6452 - val_accuracy: 0.7409 - val_loss: 0.8152\n",
      "Epoch 49/100\n",
      "\u001b[1m394/394\u001b[0m \u001b[32m━━━━━━━━━━━━━━━━━━━━\u001b[0m\u001b[37m\u001b[0m \u001b[1m204s\u001b[0m 518ms/step - accuracy: 0.7848 - loss: 0.6237 - val_accuracy: 0.7452 - val_loss: 0.8189\n",
      "Epoch 50/100\n",
      "\u001b[1m394/394\u001b[0m \u001b[32m━━━━━━━━━━━━━━━━━━━━\u001b[0m\u001b[37m\u001b[0m \u001b[1m205s\u001b[0m 521ms/step - accuracy: 0.7771 - loss: 0.6480 - val_accuracy: 0.7466 - val_loss: 0.8365\n",
      "Epoch 51/100\n",
      "\u001b[1m394/394\u001b[0m \u001b[32m━━━━━━━━━━━━━━━━━━━━\u001b[0m\u001b[37m\u001b[0m \u001b[1m204s\u001b[0m 518ms/step - accuracy: 0.7854 - loss: 0.6282 - val_accuracy: 0.7380 - val_loss: 0.8395\n",
      "Epoch 52/100\n",
      "\u001b[1m394/394\u001b[0m \u001b[32m━━━━━━━━━━━━━━━━━━━━\u001b[0m\u001b[37m\u001b[0m \u001b[1m204s\u001b[0m 517ms/step - accuracy: 0.7763 - loss: 0.6306 - val_accuracy: 0.7580 - val_loss: 0.8033\n",
      "Epoch 53/100\n",
      "\u001b[1m394/394\u001b[0m \u001b[32m━━━━━━━━━━━━━━━━━━━━\u001b[0m\u001b[37m\u001b[0m \u001b[1m204s\u001b[0m 517ms/step - accuracy: 0.7868 - loss: 0.6194 - val_accuracy: 0.7359 - val_loss: 0.9549\n",
      "Epoch 54/100\n",
      "\u001b[1m394/394\u001b[0m \u001b[32m━━━━━━━━━━━━━━━━━━━━\u001b[0m\u001b[37m\u001b[0m \u001b[1m205s\u001b[0m 520ms/step - accuracy: 0.7904 - loss: 0.6112 - val_accuracy: 0.7259 - val_loss: 0.8334\n",
      "Epoch 55/100\n",
      "\u001b[1m394/394\u001b[0m \u001b[32m━━━━━━━━━━━━━━━━━━━━\u001b[0m\u001b[37m\u001b[0m \u001b[1m205s\u001b[0m 521ms/step - accuracy: 0.7961 - loss: 0.5999 - val_accuracy: 0.7323 - val_loss: 0.9147\n",
      "Epoch 56/100\n",
      "\u001b[1m394/394\u001b[0m \u001b[32m━━━━━━━━━━━━━━━━━━━━\u001b[0m\u001b[37m\u001b[0m \u001b[1m204s\u001b[0m 519ms/step - accuracy: 0.7818 - loss: 0.6238 - val_accuracy: 0.7309 - val_loss: 0.9426\n",
      "Epoch 57/100\n",
      "\u001b[1m394/394\u001b[0m \u001b[32m━━━━━━━━━━━━━━━━━━━━\u001b[0m\u001b[37m\u001b[0m \u001b[1m207s\u001b[0m 526ms/step - accuracy: 0.7828 - loss: 0.6201 - val_accuracy: 0.7430 - val_loss: 0.7917\n",
      "Epoch 58/100\n",
      "\u001b[1m394/394\u001b[0m \u001b[32m━━━━━━━━━━━━━━━━━━━━\u001b[0m\u001b[37m\u001b[0m \u001b[1m206s\u001b[0m 522ms/step - accuracy: 0.7931 - loss: 0.6074 - val_accuracy: 0.7330 - val_loss: 0.9169\n",
      "Epoch 59/100\n",
      "\u001b[1m394/394\u001b[0m \u001b[32m━━━━━━━━━━━━━━━━━━━━\u001b[0m\u001b[37m\u001b[0m \u001b[1m204s\u001b[0m 519ms/step - accuracy: 0.7987 - loss: 0.5869 - val_accuracy: 0.7223 - val_loss: 0.8869\n",
      "Epoch 60/100\n",
      "\u001b[1m394/394\u001b[0m \u001b[32m━━━━━━━━━━━━━━━━━━━━\u001b[0m\u001b[37m\u001b[0m \u001b[1m205s\u001b[0m 520ms/step - accuracy: 0.7970 - loss: 0.5905 - val_accuracy: 0.7366 - val_loss: 0.8956\n",
      "Epoch 61/100\n",
      "\u001b[1m394/394\u001b[0m \u001b[32m━━━━━━━━━━━━━━━━━━━━\u001b[0m\u001b[37m\u001b[0m \u001b[1m205s\u001b[0m 521ms/step - accuracy: 0.8006 - loss: 0.5726 - val_accuracy: 0.7773 - val_loss: 0.7142\n",
      "Epoch 62/100\n",
      "\u001b[1m394/394\u001b[0m \u001b[32m━━━━━━━━━━━━━━━━━━━━\u001b[0m\u001b[37m\u001b[0m \u001b[1m204s\u001b[0m 518ms/step - accuracy: 0.7953 - loss: 0.5784 - val_accuracy: 0.7901 - val_loss: 0.6551\n",
      "Epoch 63/100\n",
      "\u001b[1m394/394\u001b[0m \u001b[32m━━━━━━━━━━━━━━━━━━━━\u001b[0m\u001b[37m\u001b[0m \u001b[1m206s\u001b[0m 523ms/step - accuracy: 0.8019 - loss: 0.5836 - val_accuracy: 0.7666 - val_loss: 0.7212\n",
      "Epoch 64/100\n",
      "\u001b[1m394/394\u001b[0m \u001b[32m━━━━━━━━━━━━━━━━━━━━\u001b[0m\u001b[37m\u001b[0m \u001b[1m205s\u001b[0m 521ms/step - accuracy: 0.8062 - loss: 0.5632 - val_accuracy: 0.7438 - val_loss: 0.8365\n",
      "Epoch 65/100\n",
      "\u001b[1m394/394\u001b[0m \u001b[32m━━━━━━━━━━━━━━━━━━━━\u001b[0m\u001b[37m\u001b[0m \u001b[1m205s\u001b[0m 521ms/step - accuracy: 0.8047 - loss: 0.5749 - val_accuracy: 0.7752 - val_loss: 0.6741\n",
      "Epoch 66/100\n",
      "\u001b[1m394/394\u001b[0m \u001b[32m━━━━━━━━━━━━━━━━━━━━\u001b[0m\u001b[37m\u001b[0m \u001b[1m207s\u001b[0m 526ms/step - accuracy: 0.8000 - loss: 0.5743 - val_accuracy: 0.7659 - val_loss: 0.7743\n",
      "Epoch 67/100\n",
      "\u001b[1m394/394\u001b[0m \u001b[32m━━━━━━━━━━━━━━━━━━━━\u001b[0m\u001b[37m\u001b[0m \u001b[1m214s\u001b[0m 544ms/step - accuracy: 0.8114 - loss: 0.5502 - val_accuracy: 0.7580 - val_loss: 0.7989\n",
      "Epoch 68/100\n",
      "\u001b[1m394/394\u001b[0m \u001b[32m━━━━━━━━━━━━━━━━━━━━\u001b[0m\u001b[37m\u001b[0m \u001b[1m213s\u001b[0m 542ms/step - accuracy: 0.8076 - loss: 0.5627 - val_accuracy: 0.7959 - val_loss: 0.6060\n",
      "Epoch 69/100\n",
      "\u001b[1m394/394\u001b[0m \u001b[32m━━━━━━━━━━━━━━━━━━━━\u001b[0m\u001b[37m\u001b[0m \u001b[1m215s\u001b[0m 545ms/step - accuracy: 0.8050 - loss: 0.5569 - val_accuracy: 0.7016 - val_loss: 1.0385\n",
      "Epoch 70/100\n",
      "\u001b[1m394/394\u001b[0m \u001b[32m━━━━━━━━━━━━━━━━━━━━\u001b[0m\u001b[37m\u001b[0m \u001b[1m212s\u001b[0m 539ms/step - accuracy: 0.8143 - loss: 0.5442 - val_accuracy: 0.7951 - val_loss: 0.6978\n",
      "Epoch 71/100\n",
      "\u001b[1m394/394\u001b[0m \u001b[32m━━━━━━━━━━━━━━━━━━━━\u001b[0m\u001b[37m\u001b[0m \u001b[1m212s\u001b[0m 537ms/step - accuracy: 0.8134 - loss: 0.5470 - val_accuracy: 0.6938 - val_loss: 1.0722\n",
      "Epoch 72/100\n",
      "\u001b[1m394/394\u001b[0m \u001b[32m━━━━━━━━━━━━━━━━━━━━\u001b[0m\u001b[37m\u001b[0m \u001b[1m214s\u001b[0m 544ms/step - accuracy: 0.8148 - loss: 0.5371 - val_accuracy: 0.8016 - val_loss: 0.6095\n",
      "Epoch 73/100\n",
      "\u001b[1m394/394\u001b[0m \u001b[32m━━━━━━━━━━━━━━━━━━━━\u001b[0m\u001b[37m\u001b[0m \u001b[1m212s\u001b[0m 538ms/step - accuracy: 0.8171 - loss: 0.5304 - val_accuracy: 0.7987 - val_loss: 0.5834\n",
      "Epoch 74/100\n",
      "\u001b[1m394/394\u001b[0m \u001b[32m━━━━━━━━━━━━━━━━━━━━\u001b[0m\u001b[37m\u001b[0m \u001b[1m212s\u001b[0m 539ms/step - accuracy: 0.8169 - loss: 0.5264 - val_accuracy: 0.7388 - val_loss: 0.9098\n",
      "Epoch 75/100\n",
      "\u001b[1m394/394\u001b[0m \u001b[32m━━━━━━━━━━━━━━━━━━━━\u001b[0m\u001b[37m\u001b[0m \u001b[1m212s\u001b[0m 538ms/step - accuracy: 0.8167 - loss: 0.5367 - val_accuracy: 0.7809 - val_loss: 0.6199\n",
      "Epoch 76/100\n",
      "\u001b[1m394/394\u001b[0m \u001b[32m━━━━━━━━━━━━━━━━━━━━\u001b[0m\u001b[37m\u001b[0m \u001b[1m211s\u001b[0m 534ms/step - accuracy: 0.8080 - loss: 0.5465 - val_accuracy: 0.7901 - val_loss: 0.7094\n",
      "Epoch 77/100\n",
      "\u001b[1m394/394\u001b[0m \u001b[32m━━━━━━━━━━━━━━━━━━━━\u001b[0m\u001b[37m\u001b[0m \u001b[1m212s\u001b[0m 539ms/step - accuracy: 0.8162 - loss: 0.5309 - val_accuracy: 0.7944 - val_loss: 0.6532\n",
      "Epoch 78/100\n",
      "\u001b[1m394/394\u001b[0m \u001b[32m━━━━━━━━━━━━━━━━━━━━\u001b[0m\u001b[37m\u001b[0m \u001b[1m213s\u001b[0m 540ms/step - accuracy: 0.8237 - loss: 0.5152 - val_accuracy: 0.7873 - val_loss: 0.6221\n",
      "Epoch 79/100\n",
      "\u001b[1m394/394\u001b[0m \u001b[32m━━━━━━━━━━━━━━━━━━━━\u001b[0m\u001b[37m\u001b[0m \u001b[1m210s\u001b[0m 534ms/step - accuracy: 0.8235 - loss: 0.5297 - val_accuracy: 0.7959 - val_loss: 0.6074\n",
      "Epoch 80/100\n",
      "\u001b[1m394/394\u001b[0m \u001b[32m━━━━━━━━━━━━━━━━━━━━\u001b[0m\u001b[37m\u001b[0m \u001b[1m209s\u001b[0m 530ms/step - accuracy: 0.8212 - loss: 0.5195 - val_accuracy: 0.7901 - val_loss: 0.6587\n",
      "Epoch 81/100\n",
      "\u001b[1m394/394\u001b[0m \u001b[32m━━━━━━━━━━━━━━━━━━━━\u001b[0m\u001b[37m\u001b[0m \u001b[1m211s\u001b[0m 534ms/step - accuracy: 0.8243 - loss: 0.5108 - val_accuracy: 0.7809 - val_loss: 0.6990\n",
      "Epoch 82/100\n",
      "\u001b[1m394/394\u001b[0m \u001b[32m━━━━━━━━━━━━━━━━━━━━\u001b[0m\u001b[37m\u001b[0m \u001b[1m209s\u001b[0m 530ms/step - accuracy: 0.8286 - loss: 0.4991 - val_accuracy: 0.7944 - val_loss: 0.7012\n",
      "Epoch 83/100\n",
      "\u001b[1m394/394\u001b[0m \u001b[32m━━━━━━━━━━━━━━━━━━━━\u001b[0m\u001b[37m\u001b[0m \u001b[1m208s\u001b[0m 527ms/step - accuracy: 0.8291 - loss: 0.4916 - val_accuracy: 0.7388 - val_loss: 0.8356\n",
      "Epoch 84/100\n",
      "\u001b[1m394/394\u001b[0m \u001b[32m━━━━━━━━━━━━━━━━━━━━\u001b[0m\u001b[37m\u001b[0m \u001b[1m209s\u001b[0m 530ms/step - accuracy: 0.8331 - loss: 0.4962 - val_accuracy: 0.7937 - val_loss: 0.6491\n",
      "Epoch 85/100\n",
      "\u001b[1m394/394\u001b[0m \u001b[32m━━━━━━━━━━━━━━━━━━━━\u001b[0m\u001b[37m\u001b[0m \u001b[1m209s\u001b[0m 530ms/step - accuracy: 0.8230 - loss: 0.5059 - val_accuracy: 0.7823 - val_loss: 0.7217\n",
      "Epoch 86/100\n",
      "\u001b[1m394/394\u001b[0m \u001b[32m━━━━━━━━━━━━━━━━━━━━\u001b[0m\u001b[37m\u001b[0m \u001b[1m209s\u001b[0m 529ms/step - accuracy: 0.8222 - loss: 0.5174 - val_accuracy: 0.7930 - val_loss: 0.6326\n",
      "Epoch 87/100\n",
      "\u001b[1m394/394\u001b[0m \u001b[32m━━━━━━━━━━━━━━━━━━━━\u001b[0m\u001b[37m\u001b[0m \u001b[1m209s\u001b[0m 530ms/step - accuracy: 0.8232 - loss: 0.5089 - val_accuracy: 0.8066 - val_loss: 0.6439\n",
      "Epoch 88/100\n",
      "\u001b[1m394/394\u001b[0m \u001b[32m━━━━━━━━━━━━━━━━━━━━\u001b[0m\u001b[37m\u001b[0m \u001b[1m209s\u001b[0m 530ms/step - accuracy: 0.8294 - loss: 0.4913 - val_accuracy: 0.7716 - val_loss: 0.8050\n",
      "Epoch 89/100\n",
      "\u001b[1m394/394\u001b[0m \u001b[32m━━━━━━━━━━━━━━━━━━━━\u001b[0m\u001b[37m\u001b[0m \u001b[1m208s\u001b[0m 529ms/step - accuracy: 0.8388 - loss: 0.4743 - val_accuracy: 0.7859 - val_loss: 0.6977\n",
      "Epoch 90/100\n",
      "\u001b[1m394/394\u001b[0m \u001b[32m━━━━━━━━━━━━━━━━━━━━\u001b[0m\u001b[37m\u001b[0m \u001b[1m210s\u001b[0m 532ms/step - accuracy: 0.8254 - loss: 0.5043 - val_accuracy: 0.8166 - val_loss: 0.5404\n",
      "Epoch 91/100\n",
      "\u001b[1m394/394\u001b[0m \u001b[32m━━━━━━━━━━━━━━━━━━━━\u001b[0m\u001b[37m\u001b[0m \u001b[1m209s\u001b[0m 530ms/step - accuracy: 0.8351 - loss: 0.4795 - val_accuracy: 0.7780 - val_loss: 0.7008\n",
      "Epoch 92/100\n",
      "\u001b[1m394/394\u001b[0m \u001b[32m━━━━━━━━━━━━━━━━━━━━\u001b[0m\u001b[37m\u001b[0m \u001b[1m208s\u001b[0m 529ms/step - accuracy: 0.8325 - loss: 0.4961 - val_accuracy: 0.8230 - val_loss: 0.5251\n",
      "Epoch 93/100\n",
      "\u001b[1m394/394\u001b[0m \u001b[32m━━━━━━━━━━━━━━━━━━━━\u001b[0m\u001b[37m\u001b[0m \u001b[1m210s\u001b[0m 532ms/step - accuracy: 0.8328 - loss: 0.4768 - val_accuracy: 0.8001 - val_loss: 0.7022\n",
      "Epoch 94/100\n",
      "\u001b[1m394/394\u001b[0m \u001b[32m━━━━━━━━━━━━━━━━━━━━\u001b[0m\u001b[37m\u001b[0m \u001b[1m209s\u001b[0m 531ms/step - accuracy: 0.8366 - loss: 0.4841 - val_accuracy: 0.7552 - val_loss: 0.8744\n",
      "Epoch 95/100\n",
      "\u001b[1m394/394\u001b[0m \u001b[32m━━━━━━━━━━━━━━━━━━━━\u001b[0m\u001b[37m\u001b[0m \u001b[1m209s\u001b[0m 531ms/step - accuracy: 0.8369 - loss: 0.4756 - val_accuracy: 0.8180 - val_loss: 0.5769\n",
      "Epoch 96/100\n",
      "\u001b[1m394/394\u001b[0m \u001b[32m━━━━━━━━━━━━━━━━━━━━\u001b[0m\u001b[37m\u001b[0m \u001b[1m209s\u001b[0m 529ms/step - accuracy: 0.8405 - loss: 0.4697 - val_accuracy: 0.8180 - val_loss: 0.5649\n",
      "Epoch 97/100\n",
      "\u001b[1m394/394\u001b[0m \u001b[32m━━━━━━━━━━━━━━━━━━━━\u001b[0m\u001b[37m\u001b[0m \u001b[1m211s\u001b[0m 535ms/step - accuracy: 0.8281 - loss: 0.4849 - val_accuracy: 0.7944 - val_loss: 0.6574\n",
      "Epoch 98/100\n",
      "\u001b[1m394/394\u001b[0m \u001b[32m━━━━━━━━━━━━━━━━━━━━\u001b[0m\u001b[37m\u001b[0m \u001b[1m208s\u001b[0m 529ms/step - accuracy: 0.8405 - loss: 0.4631 - val_accuracy: 0.7994 - val_loss: 0.6372\n",
      "Epoch 99/100\n",
      "\u001b[1m394/394\u001b[0m \u001b[32m━━━━━━━━━━━━━━━━━━━━\u001b[0m\u001b[37m\u001b[0m \u001b[1m211s\u001b[0m 535ms/step - accuracy: 0.8317 - loss: 0.4684 - val_accuracy: 0.7637 - val_loss: 0.8442\n",
      "Epoch 100/100\n",
      "\u001b[1m394/394\u001b[0m \u001b[32m━━━━━━━━━━━━━━━━━━━━\u001b[0m\u001b[37m\u001b[0m \u001b[1m210s\u001b[0m 533ms/step - accuracy: 0.8402 - loss: 0.4685 - val_accuracy: 0.7873 - val_loss: 0.6420\n",
      "\u001b[1m110/110\u001b[0m \u001b[32m━━━━━━━━━━━━━━━━━━━━\u001b[0m\u001b[37m\u001b[0m \u001b[1m12s\u001b[0m 106ms/step - accuracy: 0.8064 - loss: 0.5730\n",
      "Precisión en el conjunto de prueba: 81.95%\n"
     ]
    }
   ],
   "source": [
    "redConvolucional_rgbgray = cnn.Propuesta_gray(X_scaled_rgbg, y_onehot)\n",
    "redConvolucional_rgbgray.CrearModelo()\n",
    "redConvolucional_rgbgray.EvaluarModelo()"
   ]
  },
  {
   "cell_type": "markdown",
   "id": "1adc21b3",
   "metadata": {},
   "source": [
    "##### Aplicación de aprendizaje por transferencia utilizando el modelo ResNet50 como base"
   ]
  }
 ],
 "metadata": {
  "kernelspec": {
   "display_name": "Python 3",
   "language": "python",
   "name": "python3"
  },
  "language_info": {
   "codemirror_mode": {
    "name": "ipython",
    "version": 3
   },
   "file_extension": ".py",
   "mimetype": "text/x-python",
   "name": "python",
   "nbconvert_exporter": "python",
   "pygments_lexer": "ipython3",
   "version": "3.12.3"
  }
 },
 "nbformat": 4,
 "nbformat_minor": 5
}
